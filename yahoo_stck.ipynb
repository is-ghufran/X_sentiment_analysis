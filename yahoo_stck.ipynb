{
  "nbformat": 4,
  "nbformat_minor": 0,
  "metadata": {
    "colab": {
      "provenance": [],
      "authorship_tag": "ABX9TyMSiSKoVnlcEc4urcRLPNpZ",
      "include_colab_link": true
    },
    "kernelspec": {
      "name": "python3",
      "display_name": "Python 3"
    },
    "language_info": {
      "name": "python"
    }
  },
  "cells": [
    {
      "cell_type": "markdown",
      "metadata": {
        "id": "view-in-github",
        "colab_type": "text"
      },
      "source": [
        "<a href=\"https://colab.research.google.com/github/is-ghufran/X_sentiment_analysis/blob/main/yahoo_stck.ipynb\" target=\"_parent\"><img src=\"https://colab.research.google.com/assets/colab-badge.svg\" alt=\"Open In Colab\"/></a>"
      ]
    },
    {
      "cell_type": "code",
      "source": [
        "import yfinance as yf\n",
        "import numpy as np\n",
        "import pandas as pd\n",
        "import matplotlib.pyplot as plt\n",
        "from sklearn.preprocessing import MinMaxScaler\n",
        "from tensorflow.keras.models import Sequential\n",
        "from tensorflow.keras.layers import Dense, LSTM\n",
        "from sklearn.metrics import mean_squared_error\n",
        "import math\n"
      ],
      "metadata": {
        "id": "QkIG0oNby12i"
      },
      "execution_count": null,
      "outputs": []
    },
    {
      "cell_type": "code",
      "source": [
        "# Fetch historical data for Apple Inc. (AAPL) from Yahoo Finance\n",
        "df = yf.download('AAPL', start='2010-01-01', end='2024-08-01')"
      ],
      "metadata": {
        "colab": {
          "base_uri": "https://localhost:8080/"
        },
        "id": "2hZhlKOny34P",
        "outputId": "108be837-a361-4247-b83d-61bd7bd39bb2"
      },
      "execution_count": null,
      "outputs": [
        {
          "output_type": "stream",
          "name": "stderr",
          "text": [
            "\r[*********************100%%**********************]  1 of 1 completed\n"
          ]
        }
      ]
    },
    {
      "cell_type": "code",
      "source": [
        "df = df[['Close']]"
      ],
      "metadata": {
        "id": "eGabq4GKy6Cc"
      },
      "execution_count": null,
      "outputs": []
    },
    {
      "cell_type": "code",
      "source": [
        "scaler = MinMaxScaler(feature_range=(0, 1))\n",
        "df_scaled = scaler.fit_transform(df)"
      ],
      "metadata": {
        "id": "YyKTq9lvy9QT"
      },
      "execution_count": null,
      "outputs": []
    },
    {
      "cell_type": "code",
      "source": [
        "# Split data into training and test sets\n",
        "n_steps = 100\n",
        "training_size = int(len(df_scaled) * 0.65)\n",
        "test_size = len(df_scaled) - training_size\n",
        "train_data, test_data = df_scaled[:training_size], df_scaled[training_size:]\n"
      ],
      "metadata": {
        "id": "Aixqbn0izBOs"
      },
      "execution_count": null,
      "outputs": []
    },
    {
      "cell_type": "code",
      "source": [
        "# Convert an array of values into a dataset matrix\n",
        "def create_dataset(dataset, time_step=1):\n",
        "    dataX, dataY = [], []\n",
        "    for i in range(len(dataset) - time_step - 1):\n",
        "        a = dataset[i:(i + time_step), :]\n",
        "        dataX.append(a)\n",
        "        dataY.append(dataset[i + time_step, 0])  # Predicting the 'Close' price\n",
        "    return np.array(dataX), np.array(dataY)\n"
      ],
      "metadata": {
        "id": "RRo7XJGyzErS"
      },
      "execution_count": null,
      "outputs": []
    },
    {
      "cell_type": "code",
      "source": [
        "# Prepare training and test datasets\n",
        "X_train, y_train = create_dataset(train_data, n_steps)\n",
        "X_test, y_test = create_dataset(test_data, n_steps)"
      ],
      "metadata": {
        "id": "O9SjfkexzHex"
      },
      "execution_count": null,
      "outputs": []
    },
    {
      "cell_type": "code",
      "source": [
        "# Reshape input to be [samples, time steps, features] which is required for LSTM\n",
        "X_train = X_train.reshape((X_train.shape[0], X_train.shape[1], 1))\n",
        "X_test = X_test.reshape((X_test.shape[0], X_test.shape[1], 1))\n"
      ],
      "metadata": {
        "id": "Dkk3H159zIgc"
      },
      "execution_count": null,
      "outputs": []
    },
    {
      "cell_type": "code",
      "source": [
        "# Build the LSTM model\n",
        "model = Sequential([\n",
        "    LSTM(50, return_sequences=True, input_shape=(n_steps, 1)),\n",
        "    LSTM(50, return_sequences=True),\n",
        "    LSTM(50),\n",
        "    Dense(1)\n",
        "])\n",
        "model.compile(loss='mean_squared_error', optimizer='adam')\n",
        "model.summary()"
      ],
      "metadata": {
        "colab": {
          "base_uri": "https://localhost:8080/",
          "height": 335
        },
        "id": "rd2UsVw3zNKw",
        "outputId": "c7980ac7-70c0-4cbf-afd4-3d7fe63cc3f9"
      },
      "execution_count": null,
      "outputs": [
        {
          "output_type": "stream",
          "name": "stderr",
          "text": [
            "/usr/local/lib/python3.10/dist-packages/keras/src/layers/rnn/rnn.py:204: UserWarning: Do not pass an `input_shape`/`input_dim` argument to a layer. When using Sequential models, prefer using an `Input(shape)` object as the first layer in the model instead.\n",
            "  super().__init__(**kwargs)\n"
          ]
        },
        {
          "output_type": "display_data",
          "data": {
            "text/plain": [
              "\u001b[1mModel: \"sequential_3\"\u001b[0m\n"
            ],
            "text/html": [
              "<pre style=\"white-space:pre;overflow-x:auto;line-height:normal;font-family:Menlo,'DejaVu Sans Mono',consolas,'Courier New',monospace\"><span style=\"font-weight: bold\">Model: \"sequential_3\"</span>\n",
              "</pre>\n"
            ]
          },
          "metadata": {}
        },
        {
          "output_type": "display_data",
          "data": {
            "text/plain": [
              "┏━━━━━━━━━━━━━━━━━━━━━━━━━━━━━━━━━━━━━━┳━━━━━━━━━━━━━━━━━━━━━━━━━━━━━┳━━━━━━━━━━━━━━━━━┓\n",
              "┃\u001b[1m \u001b[0m\u001b[1mLayer (type)                        \u001b[0m\u001b[1m \u001b[0m┃\u001b[1m \u001b[0m\u001b[1mOutput Shape               \u001b[0m\u001b[1m \u001b[0m┃\u001b[1m \u001b[0m\u001b[1m        Param #\u001b[0m\u001b[1m \u001b[0m┃\n",
              "┡━━━━━━━━━━━━━━━━━━━━━━━━━━━━━━━━━━━━━━╇━━━━━━━━━━━━━━━━━━━━━━━━━━━━━╇━━━━━━━━━━━━━━━━━┩\n",
              "│ lstm_9 (\u001b[38;5;33mLSTM\u001b[0m)                        │ (\u001b[38;5;45mNone\u001b[0m, \u001b[38;5;34m100\u001b[0m, \u001b[38;5;34m50\u001b[0m)             │          \u001b[38;5;34m10,400\u001b[0m │\n",
              "├──────────────────────────────────────┼─────────────────────────────┼─────────────────┤\n",
              "│ lstm_10 (\u001b[38;5;33mLSTM\u001b[0m)                       │ (\u001b[38;5;45mNone\u001b[0m, \u001b[38;5;34m100\u001b[0m, \u001b[38;5;34m50\u001b[0m)             │          \u001b[38;5;34m20,200\u001b[0m │\n",
              "├──────────────────────────────────────┼─────────────────────────────┼─────────────────┤\n",
              "│ lstm_11 (\u001b[38;5;33mLSTM\u001b[0m)                       │ (\u001b[38;5;45mNone\u001b[0m, \u001b[38;5;34m50\u001b[0m)                  │          \u001b[38;5;34m20,200\u001b[0m │\n",
              "├──────────────────────────────────────┼─────────────────────────────┼─────────────────┤\n",
              "│ dense_3 (\u001b[38;5;33mDense\u001b[0m)                      │ (\u001b[38;5;45mNone\u001b[0m, \u001b[38;5;34m1\u001b[0m)                   │              \u001b[38;5;34m51\u001b[0m │\n",
              "└──────────────────────────────────────┴─────────────────────────────┴─────────────────┘\n"
            ],
            "text/html": [
              "<pre style=\"white-space:pre;overflow-x:auto;line-height:normal;font-family:Menlo,'DejaVu Sans Mono',consolas,'Courier New',monospace\">┏━━━━━━━━━━━━━━━━━━━━━━━━━━━━━━━━━━━━━━┳━━━━━━━━━━━━━━━━━━━━━━━━━━━━━┳━━━━━━━━━━━━━━━━━┓\n",
              "┃<span style=\"font-weight: bold\"> Layer (type)                         </span>┃<span style=\"font-weight: bold\"> Output Shape                </span>┃<span style=\"font-weight: bold\">         Param # </span>┃\n",
              "┡━━━━━━━━━━━━━━━━━━━━━━━━━━━━━━━━━━━━━━╇━━━━━━━━━━━━━━━━━━━━━━━━━━━━━╇━━━━━━━━━━━━━━━━━┩\n",
              "│ lstm_9 (<span style=\"color: #0087ff; text-decoration-color: #0087ff\">LSTM</span>)                        │ (<span style=\"color: #00d7ff; text-decoration-color: #00d7ff\">None</span>, <span style=\"color: #00af00; text-decoration-color: #00af00\">100</span>, <span style=\"color: #00af00; text-decoration-color: #00af00\">50</span>)             │          <span style=\"color: #00af00; text-decoration-color: #00af00\">10,400</span> │\n",
              "├──────────────────────────────────────┼─────────────────────────────┼─────────────────┤\n",
              "│ lstm_10 (<span style=\"color: #0087ff; text-decoration-color: #0087ff\">LSTM</span>)                       │ (<span style=\"color: #00d7ff; text-decoration-color: #00d7ff\">None</span>, <span style=\"color: #00af00; text-decoration-color: #00af00\">100</span>, <span style=\"color: #00af00; text-decoration-color: #00af00\">50</span>)             │          <span style=\"color: #00af00; text-decoration-color: #00af00\">20,200</span> │\n",
              "├──────────────────────────────────────┼─────────────────────────────┼─────────────────┤\n",
              "│ lstm_11 (<span style=\"color: #0087ff; text-decoration-color: #0087ff\">LSTM</span>)                       │ (<span style=\"color: #00d7ff; text-decoration-color: #00d7ff\">None</span>, <span style=\"color: #00af00; text-decoration-color: #00af00\">50</span>)                  │          <span style=\"color: #00af00; text-decoration-color: #00af00\">20,200</span> │\n",
              "├──────────────────────────────────────┼─────────────────────────────┼─────────────────┤\n",
              "│ dense_3 (<span style=\"color: #0087ff; text-decoration-color: #0087ff\">Dense</span>)                      │ (<span style=\"color: #00d7ff; text-decoration-color: #00d7ff\">None</span>, <span style=\"color: #00af00; text-decoration-color: #00af00\">1</span>)                   │              <span style=\"color: #00af00; text-decoration-color: #00af00\">51</span> │\n",
              "└──────────────────────────────────────┴─────────────────────────────┴─────────────────┘\n",
              "</pre>\n"
            ]
          },
          "metadata": {}
        },
        {
          "output_type": "display_data",
          "data": {
            "text/plain": [
              "\u001b[1m Total params: \u001b[0m\u001b[38;5;34m50,851\u001b[0m (198.64 KB)\n"
            ],
            "text/html": [
              "<pre style=\"white-space:pre;overflow-x:auto;line-height:normal;font-family:Menlo,'DejaVu Sans Mono',consolas,'Courier New',monospace\"><span style=\"font-weight: bold\"> Total params: </span><span style=\"color: #00af00; text-decoration-color: #00af00\">50,851</span> (198.64 KB)\n",
              "</pre>\n"
            ]
          },
          "metadata": {}
        },
        {
          "output_type": "display_data",
          "data": {
            "text/plain": [
              "\u001b[1m Trainable params: \u001b[0m\u001b[38;5;34m50,851\u001b[0m (198.64 KB)\n"
            ],
            "text/html": [
              "<pre style=\"white-space:pre;overflow-x:auto;line-height:normal;font-family:Menlo,'DejaVu Sans Mono',consolas,'Courier New',monospace\"><span style=\"font-weight: bold\"> Trainable params: </span><span style=\"color: #00af00; text-decoration-color: #00af00\">50,851</span> (198.64 KB)\n",
              "</pre>\n"
            ]
          },
          "metadata": {}
        },
        {
          "output_type": "display_data",
          "data": {
            "text/plain": [
              "\u001b[1m Non-trainable params: \u001b[0m\u001b[38;5;34m0\u001b[0m (0.00 B)\n"
            ],
            "text/html": [
              "<pre style=\"white-space:pre;overflow-x:auto;line-height:normal;font-family:Menlo,'DejaVu Sans Mono',consolas,'Courier New',monospace\"><span style=\"font-weight: bold\"> Non-trainable params: </span><span style=\"color: #00af00; text-decoration-color: #00af00\">0</span> (0.00 B)\n",
              "</pre>\n"
            ]
          },
          "metadata": {}
        }
      ]
    },
    {
      "cell_type": "code",
      "source": [
        "model.fit(X_train, y_train, validation_data=(X_test, y_test), epochs=100, batch_size=64, verbose=1)\n"
      ],
      "metadata": {
        "colab": {
          "base_uri": "https://localhost:8080/"
        },
        "id": "2XDhDkbgzN3O",
        "outputId": "f11a1aab-657c-41bb-a96c-046f9dd236fc"
      },
      "execution_count": null,
      "outputs": [
        {
          "output_type": "stream",
          "name": "stdout",
          "text": [
            "Epoch 1/100\n",
            "\u001b[1m36/36\u001b[0m \u001b[32m━━━━━━━━━━━━━━━━━━━━\u001b[0m\u001b[37m\u001b[0m \u001b[1m13s\u001b[0m 192ms/step - loss: 0.0032 - val_loss: 0.0012\n",
            "Epoch 2/100\n",
            "\u001b[1m36/36\u001b[0m \u001b[32m━━━━━━━━━━━━━━━━━━━━\u001b[0m\u001b[37m\u001b[0m \u001b[1m9s\u001b[0m 256ms/step - loss: 6.4030e-05 - val_loss: 0.0015\n",
            "Epoch 3/100\n",
            "\u001b[1m36/36\u001b[0m \u001b[32m━━━━━━━━━━━━━━━━━━━━\u001b[0m\u001b[37m\u001b[0m \u001b[1m8s\u001b[0m 200ms/step - loss: 4.2226e-05 - val_loss: 0.0011\n",
            "Epoch 4/100\n",
            "\u001b[1m36/36\u001b[0m \u001b[32m━━━━━━━━━━━━━━━━━━━━\u001b[0m\u001b[37m\u001b[0m \u001b[1m7s\u001b[0m 199ms/step - loss: 4.2036e-05 - val_loss: 0.0013\n",
            "Epoch 5/100\n",
            "\u001b[1m36/36\u001b[0m \u001b[32m━━━━━━━━━━━━━━━━━━━━\u001b[0m\u001b[37m\u001b[0m \u001b[1m7s\u001b[0m 203ms/step - loss: 3.8519e-05 - val_loss: 0.0018\n",
            "Epoch 6/100\n",
            "\u001b[1m36/36\u001b[0m \u001b[32m━━━━━━━━━━━━━━━━━━━━\u001b[0m\u001b[37m\u001b[0m \u001b[1m7s\u001b[0m 189ms/step - loss: 3.6054e-05 - val_loss: 0.0022\n",
            "Epoch 7/100\n",
            "\u001b[1m36/36\u001b[0m \u001b[32m━━━━━━━━━━━━━━━━━━━━\u001b[0m\u001b[37m\u001b[0m \u001b[1m11s\u001b[0m 225ms/step - loss: 3.5627e-05 - val_loss: 0.0023\n",
            "Epoch 8/100\n",
            "\u001b[1m36/36\u001b[0m \u001b[32m━━━━━━━━━━━━━━━━━━━━\u001b[0m\u001b[37m\u001b[0m \u001b[1m6s\u001b[0m 177ms/step - loss: 3.3079e-05 - val_loss: 0.0019\n",
            "Epoch 9/100\n",
            "\u001b[1m36/36\u001b[0m \u001b[32m━━━━━━━━━━━━━━━━━━━━\u001b[0m\u001b[37m\u001b[0m \u001b[1m10s\u001b[0m 185ms/step - loss: 3.2372e-05 - val_loss: 0.0023\n",
            "Epoch 10/100\n",
            "\u001b[1m36/36\u001b[0m \u001b[32m━━━━━━━━━━━━━━━━━━━━\u001b[0m\u001b[37m\u001b[0m \u001b[1m8s\u001b[0m 227ms/step - loss: 3.0983e-05 - val_loss: 0.0024\n",
            "Epoch 11/100\n",
            "\u001b[1m36/36\u001b[0m \u001b[32m━━━━━━━━━━━━━━━━━━━━\u001b[0m\u001b[37m\u001b[0m \u001b[1m8s\u001b[0m 177ms/step - loss: 3.6931e-05 - val_loss: 0.0032\n",
            "Epoch 12/100\n",
            "\u001b[1m36/36\u001b[0m \u001b[32m━━━━━━━━━━━━━━━━━━━━\u001b[0m\u001b[37m\u001b[0m \u001b[1m10s\u001b[0m 177ms/step - loss: 3.2157e-05 - val_loss: 0.0033\n",
            "Epoch 13/100\n",
            "\u001b[1m36/36\u001b[0m \u001b[32m━━━━━━━━━━━━━━━━━━━━\u001b[0m\u001b[37m\u001b[0m \u001b[1m10s\u001b[0m 174ms/step - loss: 2.9672e-05 - val_loss: 0.0030\n",
            "Epoch 14/100\n",
            "\u001b[1m36/36\u001b[0m \u001b[32m━━━━━━━━━━━━━━━━━━━━\u001b[0m\u001b[37m\u001b[0m \u001b[1m8s\u001b[0m 218ms/step - loss: 3.5228e-05 - val_loss: 0.0036\n",
            "Epoch 15/100\n",
            "\u001b[1m36/36\u001b[0m \u001b[32m━━━━━━━━━━━━━━━━━━━━\u001b[0m\u001b[37m\u001b[0m \u001b[1m6s\u001b[0m 176ms/step - loss: 2.7087e-05 - val_loss: 0.0029\n",
            "Epoch 16/100\n",
            "\u001b[1m36/36\u001b[0m \u001b[32m━━━━━━━━━━━━━━━━━━━━\u001b[0m\u001b[37m\u001b[0m \u001b[1m12s\u001b[0m 211ms/step - loss: 3.5070e-05 - val_loss: 0.0050\n",
            "Epoch 17/100\n",
            "\u001b[1m36/36\u001b[0m \u001b[32m━━━━━━━━━━━━━━━━━━━━\u001b[0m\u001b[37m\u001b[0m \u001b[1m12s\u001b[0m 270ms/step - loss: 2.4422e-05 - val_loss: 0.0033\n",
            "Epoch 18/100\n",
            "\u001b[1m36/36\u001b[0m \u001b[32m━━━━━━━━━━━━━━━━━━━━\u001b[0m\u001b[37m\u001b[0m \u001b[1m7s\u001b[0m 176ms/step - loss: 2.6376e-05 - val_loss: 0.0047\n",
            "Epoch 19/100\n",
            "\u001b[1m36/36\u001b[0m \u001b[32m━━━━━━━━━━━━━━━━━━━━\u001b[0m\u001b[37m\u001b[0m \u001b[1m10s\u001b[0m 176ms/step - loss: 3.0316e-05 - val_loss: 0.0019\n",
            "Epoch 20/100\n",
            "\u001b[1m36/36\u001b[0m \u001b[32m━━━━━━━━━━━━━━━━━━━━\u001b[0m\u001b[37m\u001b[0m \u001b[1m12s\u001b[0m 217ms/step - loss: 3.5824e-05 - val_loss: 0.0032\n",
            "Epoch 21/100\n",
            "\u001b[1m36/36\u001b[0m \u001b[32m━━━━━━━━━━━━━━━━━━━━\u001b[0m\u001b[37m\u001b[0m \u001b[1m10s\u001b[0m 223ms/step - loss: 2.0592e-05 - val_loss: 0.0029\n",
            "Epoch 22/100\n",
            "\u001b[1m36/36\u001b[0m \u001b[32m━━━━━━━━━━━━━━━━━━━━\u001b[0m\u001b[37m\u001b[0m \u001b[1m9s\u001b[0m 177ms/step - loss: 2.1664e-05 - val_loss: 0.0029\n",
            "Epoch 23/100\n",
            "\u001b[1m36/36\u001b[0m \u001b[32m━━━━━━━━━━━━━━━━━━━━\u001b[0m\u001b[37m\u001b[0m \u001b[1m10s\u001b[0m 175ms/step - loss: 2.3467e-05 - val_loss: 0.0027\n",
            "Epoch 24/100\n",
            "\u001b[1m36/36\u001b[0m \u001b[32m━━━━━━━━━━━━━━━━━━━━\u001b[0m\u001b[37m\u001b[0m \u001b[1m11s\u001b[0m 197ms/step - loss: 2.3957e-05 - val_loss: 0.0031\n",
            "Epoch 25/100\n",
            "\u001b[1m36/36\u001b[0m \u001b[32m━━━━━━━━━━━━━━━━━━━━\u001b[0m\u001b[37m\u001b[0m \u001b[1m7s\u001b[0m 203ms/step - loss: 2.1535e-05 - val_loss: 0.0029\n",
            "Epoch 26/100\n",
            "\u001b[1m36/36\u001b[0m \u001b[32m━━━━━━━━━━━━━━━━━━━━\u001b[0m\u001b[37m\u001b[0m \u001b[1m9s\u001b[0m 178ms/step - loss: 2.3576e-05 - val_loss: 0.0021\n",
            "Epoch 27/100\n",
            "\u001b[1m36/36\u001b[0m \u001b[32m━━━━━━━━━━━━━━━━━━━━\u001b[0m\u001b[37m\u001b[0m \u001b[1m10s\u001b[0m 175ms/step - loss: 2.8224e-05 - val_loss: 0.0048\n",
            "Epoch 28/100\n",
            "\u001b[1m36/36\u001b[0m \u001b[32m━━━━━━━━━━━━━━━━━━━━\u001b[0m\u001b[37m\u001b[0m \u001b[1m11s\u001b[0m 193ms/step - loss: 2.1493e-05 - val_loss: 0.0024\n",
            "Epoch 29/100\n",
            "\u001b[1m36/36\u001b[0m \u001b[32m━━━━━━━━━━━━━━━━━━━━\u001b[0m\u001b[37m\u001b[0m \u001b[1m11s\u001b[0m 222ms/step - loss: 1.8828e-05 - val_loss: 0.0038\n",
            "Epoch 30/100\n",
            "\u001b[1m36/36\u001b[0m \u001b[32m━━━━━━━━━━━━━━━━━━━━\u001b[0m\u001b[37m\u001b[0m \u001b[1m6s\u001b[0m 174ms/step - loss: 1.9807e-05 - val_loss: 0.0023\n",
            "Epoch 31/100\n",
            "\u001b[1m36/36\u001b[0m \u001b[32m━━━━━━━━━━━━━━━━━━━━\u001b[0m\u001b[37m\u001b[0m \u001b[1m12s\u001b[0m 223ms/step - loss: 2.0033e-05 - val_loss: 0.0015\n",
            "Epoch 32/100\n",
            "\u001b[1m36/36\u001b[0m \u001b[32m━━━━━━━━━━━━━━━━━━━━\u001b[0m\u001b[37m\u001b[0m \u001b[1m9s\u001b[0m 189ms/step - loss: 2.0314e-05 - val_loss: 0.0020\n",
            "Epoch 33/100\n",
            "\u001b[1m36/36\u001b[0m \u001b[32m━━━━━━━━━━━━━━━━━━━━\u001b[0m\u001b[37m\u001b[0m \u001b[1m11s\u001b[0m 219ms/step - loss: 1.9182e-05 - val_loss: 0.0029\n",
            "Epoch 34/100\n",
            "\u001b[1m36/36\u001b[0m \u001b[32m━━━━━━━━━━━━━━━━━━━━\u001b[0m\u001b[37m\u001b[0m \u001b[1m6s\u001b[0m 173ms/step - loss: 2.0431e-05 - val_loss: 0.0031\n",
            "Epoch 35/100\n",
            "\u001b[1m36/36\u001b[0m \u001b[32m━━━━━━━━━━━━━━━━━━━━\u001b[0m\u001b[37m\u001b[0m \u001b[1m8s\u001b[0m 215ms/step - loss: 1.9625e-05 - val_loss: 0.0026\n",
            "Epoch 36/100\n",
            "\u001b[1m36/36\u001b[0m \u001b[32m━━━━━━━━━━━━━━━━━━━━\u001b[0m\u001b[37m\u001b[0m \u001b[1m10s\u001b[0m 214ms/step - loss: 1.6988e-05 - val_loss: 0.0027\n",
            "Epoch 37/100\n",
            "\u001b[1m36/36\u001b[0m \u001b[32m━━━━━━━━━━━━━━━━━━━━\u001b[0m\u001b[37m\u001b[0m \u001b[1m9s\u001b[0m 174ms/step - loss: 1.8146e-05 - val_loss: 0.0028\n",
            "Epoch 38/100\n",
            "\u001b[1m36/36\u001b[0m \u001b[32m━━━━━━━━━━━━━━━━━━━━\u001b[0m\u001b[37m\u001b[0m \u001b[1m10s\u001b[0m 175ms/step - loss: 1.7211e-05 - val_loss: 0.0037\n",
            "Epoch 39/100\n",
            "\u001b[1m36/36\u001b[0m \u001b[32m━━━━━━━━━━━━━━━━━━━━\u001b[0m\u001b[37m\u001b[0m \u001b[1m11s\u001b[0m 196ms/step - loss: 1.7084e-05 - val_loss: 0.0035\n",
            "Epoch 40/100\n",
            "\u001b[1m36/36\u001b[0m \u001b[32m━━━━━━━━━━━━━━━━━━━━\u001b[0m\u001b[37m\u001b[0m \u001b[1m11s\u001b[0m 224ms/step - loss: 1.6296e-05 - val_loss: 0.0021\n",
            "Epoch 41/100\n",
            "\u001b[1m36/36\u001b[0m \u001b[32m━━━━━━━━━━━━━━━━━━━━\u001b[0m\u001b[37m\u001b[0m \u001b[1m6s\u001b[0m 176ms/step - loss: 1.6920e-05 - val_loss: 0.0021\n",
            "Epoch 42/100\n",
            "\u001b[1m36/36\u001b[0m \u001b[32m━━━━━━━━━━━━━━━━━━━━\u001b[0m\u001b[37m\u001b[0m \u001b[1m10s\u001b[0m 174ms/step - loss: 2.2991e-05 - val_loss: 0.0024\n",
            "Epoch 43/100\n",
            "\u001b[1m36/36\u001b[0m \u001b[32m━━━━━━━━━━━━━━━━━━━━\u001b[0m\u001b[37m\u001b[0m \u001b[1m8s\u001b[0m 224ms/step - loss: 1.9359e-05 - val_loss: 0.0018\n",
            "Epoch 44/100\n",
            "\u001b[1m36/36\u001b[0m \u001b[32m━━━━━━━━━━━━━━━━━━━━\u001b[0m\u001b[37m\u001b[0m \u001b[1m8s\u001b[0m 174ms/step - loss: 1.6575e-05 - val_loss: 0.0036\n",
            "Epoch 45/100\n",
            "\u001b[1m36/36\u001b[0m \u001b[32m━━━━━━━━━━━━━━━━━━━━\u001b[0m\u001b[37m\u001b[0m \u001b[1m12s\u001b[0m 219ms/step - loss: 1.5950e-05 - val_loss: 0.0026\n",
            "Epoch 46/100\n",
            "\u001b[1m36/36\u001b[0m \u001b[32m━━━━━━━━━━━━━━━━━━━━\u001b[0m\u001b[37m\u001b[0m \u001b[1m8s\u001b[0m 220ms/step - loss: 1.5131e-05 - val_loss: 0.0028\n",
            "Epoch 47/100\n",
            "\u001b[1m36/36\u001b[0m \u001b[32m━━━━━━━━━━━━━━━━━━━━\u001b[0m\u001b[37m\u001b[0m \u001b[1m10s\u001b[0m 214ms/step - loss: 1.5751e-05 - val_loss: 0.0016\n",
            "Epoch 48/100\n",
            "\u001b[1m36/36\u001b[0m \u001b[32m━━━━━━━━━━━━━━━━━━━━\u001b[0m\u001b[37m\u001b[0m \u001b[1m9s\u001b[0m 175ms/step - loss: 1.7268e-05 - val_loss: 0.0036\n",
            "Epoch 49/100\n",
            "\u001b[1m36/36\u001b[0m \u001b[32m━━━━━━━━━━━━━━━━━━━━\u001b[0m\u001b[37m\u001b[0m \u001b[1m10s\u001b[0m 176ms/step - loss: 1.9778e-05 - val_loss: 0.0020\n",
            "Epoch 50/100\n",
            "\u001b[1m36/36\u001b[0m \u001b[32m━━━━━━━━━━━━━━━━━━━━\u001b[0m\u001b[37m\u001b[0m \u001b[1m8s\u001b[0m 224ms/step - loss: 1.5029e-05 - val_loss: 0.0022\n",
            "Epoch 51/100\n",
            "\u001b[1m36/36\u001b[0m \u001b[32m━━━━━━━━━━━━━━━━━━━━\u001b[0m\u001b[37m\u001b[0m \u001b[1m9s\u001b[0m 175ms/step - loss: 1.6521e-05 - val_loss: 0.0024\n",
            "Epoch 52/100\n",
            "\u001b[1m36/36\u001b[0m \u001b[32m━━━━━━━━━━━━━━━━━━━━\u001b[0m\u001b[37m\u001b[0m \u001b[1m10s\u001b[0m 177ms/step - loss: 1.3670e-05 - val_loss: 0.0025\n",
            "Epoch 53/100\n",
            "\u001b[1m36/36\u001b[0m \u001b[32m━━━━━━━━━━━━━━━━━━━━\u001b[0m\u001b[37m\u001b[0m \u001b[1m10s\u001b[0m 176ms/step - loss: 1.5250e-05 - val_loss: 0.0024\n",
            "Epoch 54/100\n",
            "\u001b[1m36/36\u001b[0m \u001b[32m━━━━━━━━━━━━━━━━━━━━\u001b[0m\u001b[37m\u001b[0m \u001b[1m11s\u001b[0m 207ms/step - loss: 1.3431e-05 - val_loss: 0.0023\n",
            "Epoch 55/100\n",
            "\u001b[1m36/36\u001b[0m \u001b[32m━━━━━━━━━━━━━━━━━━━━\u001b[0m\u001b[37m\u001b[0m \u001b[1m11s\u001b[0m 226ms/step - loss: 1.5787e-05 - val_loss: 0.0023\n",
            "Epoch 56/100\n",
            "\u001b[1m36/36\u001b[0m \u001b[32m━━━━━━━━━━━━━━━━━━━━\u001b[0m\u001b[37m\u001b[0m \u001b[1m9s\u001b[0m 177ms/step - loss: 1.3172e-05 - val_loss: 0.0016\n",
            "Epoch 57/100\n",
            "\u001b[1m36/36\u001b[0m \u001b[32m━━━━━━━━━━━━━━━━━━━━\u001b[0m\u001b[37m\u001b[0m \u001b[1m10s\u001b[0m 177ms/step - loss: 1.8315e-05 - val_loss: 0.0014\n",
            "Epoch 58/100\n",
            "\u001b[1m36/36\u001b[0m \u001b[32m━━━━━━━━━━━━━━━━━━━━\u001b[0m\u001b[37m\u001b[0m \u001b[1m8s\u001b[0m 221ms/step - loss: 1.4585e-05 - val_loss: 0.0018\n",
            "Epoch 59/100\n",
            "\u001b[1m36/36\u001b[0m \u001b[32m━━━━━━━━━━━━━━━━━━━━\u001b[0m\u001b[37m\u001b[0m \u001b[1m8s\u001b[0m 221ms/step - loss: 1.4910e-05 - val_loss: 0.0029\n",
            "Epoch 60/100\n",
            "\u001b[1m36/36\u001b[0m \u001b[32m━━━━━━━━━━━━━━━━━━━━\u001b[0m\u001b[37m\u001b[0m \u001b[1m9s\u001b[0m 176ms/step - loss: 1.2900e-05 - val_loss: 0.0025\n",
            "Epoch 61/100\n",
            "\u001b[1m36/36\u001b[0m \u001b[32m━━━━━━━━━━━━━━━━━━━━\u001b[0m\u001b[37m\u001b[0m \u001b[1m11s\u001b[0m 198ms/step - loss: 1.3845e-05 - val_loss: 0.0027\n",
            "Epoch 62/100\n",
            "\u001b[1m36/36\u001b[0m \u001b[32m━━━━━━━━━━━━━━━━━━━━\u001b[0m\u001b[37m\u001b[0m \u001b[1m11s\u001b[0m 219ms/step - loss: 1.2915e-05 - val_loss: 0.0023\n",
            "Epoch 63/100\n",
            "\u001b[1m36/36\u001b[0m \u001b[32m━━━━━━━━━━━━━━━━━━━━\u001b[0m\u001b[37m\u001b[0m \u001b[1m6s\u001b[0m 176ms/step - loss: 1.5003e-05 - val_loss: 0.0025\n",
            "Epoch 64/100\n",
            "\u001b[1m36/36\u001b[0m \u001b[32m━━━━━━━━━━━━━━━━━━━━\u001b[0m\u001b[37m\u001b[0m \u001b[1m10s\u001b[0m 176ms/step - loss: 1.5076e-05 - val_loss: 0.0024\n",
            "Epoch 65/100\n",
            "\u001b[1m36/36\u001b[0m \u001b[32m━━━━━━━━━━━━━━━━━━━━\u001b[0m\u001b[37m\u001b[0m \u001b[1m11s\u001b[0m 195ms/step - loss: 1.2390e-05 - val_loss: 0.0037\n",
            "Epoch 66/100\n",
            "\u001b[1m36/36\u001b[0m \u001b[32m━━━━━━━━━━━━━━━━━━━━\u001b[0m\u001b[37m\u001b[0m \u001b[1m11s\u001b[0m 222ms/step - loss: 1.2131e-05 - val_loss: 0.0034\n",
            "Epoch 67/100\n",
            "\u001b[1m36/36\u001b[0m \u001b[32m━━━━━━━━━━━━━━━━━━━━\u001b[0m\u001b[37m\u001b[0m \u001b[1m6s\u001b[0m 175ms/step - loss: 1.5870e-05 - val_loss: 0.0026\n",
            "Epoch 68/100\n",
            "\u001b[1m36/36\u001b[0m \u001b[32m━━━━━━━━━━━━━━━━━━━━\u001b[0m\u001b[37m\u001b[0m \u001b[1m10s\u001b[0m 177ms/step - loss: 1.1414e-05 - val_loss: 0.0048\n",
            "Epoch 69/100\n",
            "\u001b[1m36/36\u001b[0m \u001b[32m━━━━━━━━━━━━━━━━━━━━\u001b[0m\u001b[37m\u001b[0m \u001b[1m8s\u001b[0m 225ms/step - loss: 1.2415e-05 - val_loss: 0.0050\n",
            "Epoch 70/100\n",
            "\u001b[1m36/36\u001b[0m \u001b[32m━━━━━━━━━━━━━━━━━━━━\u001b[0m\u001b[37m\u001b[0m \u001b[1m9s\u001b[0m 176ms/step - loss: 1.3453e-05 - val_loss: 0.0038\n",
            "Epoch 71/100\n",
            "\u001b[1m36/36\u001b[0m \u001b[32m━━━━━━━━━━━━━━━━━━━━\u001b[0m\u001b[37m\u001b[0m \u001b[1m8s\u001b[0m 224ms/step - loss: 1.1591e-05 - val_loss: 0.0036\n",
            "Epoch 72/100\n",
            "\u001b[1m36/36\u001b[0m \u001b[32m━━━━━━━━━━━━━━━━━━━━\u001b[0m\u001b[37m\u001b[0m \u001b[1m6s\u001b[0m 178ms/step - loss: 1.1815e-05 - val_loss: 0.0028\n",
            "Epoch 73/100\n",
            "\u001b[1m36/36\u001b[0m \u001b[32m━━━━━━━━━━━━━━━━━━━━\u001b[0m\u001b[37m\u001b[0m \u001b[1m8s\u001b[0m 220ms/step - loss: 1.0835e-05 - val_loss: 0.0037\n",
            "Epoch 74/100\n",
            "\u001b[1m36/36\u001b[0m \u001b[32m━━━━━━━━━━━━━━━━━━━━\u001b[0m\u001b[37m\u001b[0m \u001b[1m9s\u001b[0m 252ms/step - loss: 1.1185e-05 - val_loss: 0.0030\n",
            "Epoch 75/100\n",
            "\u001b[1m36/36\u001b[0m \u001b[32m━━━━━━━━━━━━━━━━━━━━\u001b[0m\u001b[37m\u001b[0m \u001b[1m8s\u001b[0m 177ms/step - loss: 1.1432e-05 - val_loss: 0.0043\n",
            "Epoch 76/100\n",
            "\u001b[1m36/36\u001b[0m \u001b[32m━━━━━━━━━━━━━━━━━━━━\u001b[0m\u001b[37m\u001b[0m \u001b[1m11s\u001b[0m 192ms/step - loss: 1.0003e-05 - val_loss: 0.0041\n",
            "Epoch 77/100\n",
            "\u001b[1m36/36\u001b[0m \u001b[32m━━━━━━━━━━━━━━━━━━━━\u001b[0m\u001b[37m\u001b[0m \u001b[1m7s\u001b[0m 206ms/step - loss: 1.0659e-05 - val_loss: 0.0038\n",
            "Epoch 78/100\n",
            "\u001b[1m36/36\u001b[0m \u001b[32m━━━━━━━━━━━━━━━━━━━━\u001b[0m\u001b[37m\u001b[0m \u001b[1m9s\u001b[0m 176ms/step - loss: 9.9726e-06 - val_loss: 0.0038\n",
            "Epoch 79/100\n",
            "\u001b[1m36/36\u001b[0m \u001b[32m━━━━━━━━━━━━━━━━━━━━\u001b[0m\u001b[37m\u001b[0m \u001b[1m8s\u001b[0m 228ms/step - loss: 1.0093e-05 - val_loss: 0.0030\n",
            "Epoch 80/100\n",
            "\u001b[1m36/36\u001b[0m \u001b[32m━━━━━━━━━━━━━━━━━━━━\u001b[0m\u001b[37m\u001b[0m \u001b[1m9s\u001b[0m 195ms/step - loss: 1.0990e-05 - val_loss: 0.0024\n",
            "Epoch 81/100\n",
            "\u001b[1m36/36\u001b[0m \u001b[32m━━━━━━━━━━━━━━━━━━━━\u001b[0m\u001b[37m\u001b[0m \u001b[1m10s\u001b[0m 177ms/step - loss: 9.8040e-06 - val_loss: 0.0028\n",
            "Epoch 82/100\n",
            "\u001b[1m36/36\u001b[0m \u001b[32m━━━━━━━━━━━━━━━━━━━━\u001b[0m\u001b[37m\u001b[0m \u001b[1m10s\u001b[0m 177ms/step - loss: 9.7729e-06 - val_loss: 0.0047\n",
            "Epoch 83/100\n",
            "\u001b[1m36/36\u001b[0m \u001b[32m━━━━━━━━━━━━━━━━━━━━\u001b[0m\u001b[37m\u001b[0m \u001b[1m11s\u001b[0m 198ms/step - loss: 9.3261e-06 - val_loss: 0.0026\n",
            "Epoch 84/100\n",
            "\u001b[1m36/36\u001b[0m \u001b[32m━━━━━━━━━━━━━━━━━━━━\u001b[0m\u001b[37m\u001b[0m \u001b[1m11s\u001b[0m 219ms/step - loss: 9.1395e-06 - val_loss: 0.0037\n",
            "Epoch 85/100\n",
            "\u001b[1m36/36\u001b[0m \u001b[32m━━━━━━━━━━━━━━━━━━━━\u001b[0m\u001b[37m\u001b[0m \u001b[1m9s\u001b[0m 194ms/step - loss: 1.0370e-05 - val_loss: 0.0047\n",
            "Epoch 86/100\n",
            "\u001b[1m36/36\u001b[0m \u001b[32m━━━━━━━━━━━━━━━━━━━━\u001b[0m\u001b[37m\u001b[0m \u001b[1m10s\u001b[0m 175ms/step - loss: 1.0326e-05 - val_loss: 0.0030\n",
            "Epoch 87/100\n",
            "\u001b[1m36/36\u001b[0m \u001b[32m━━━━━━━━━━━━━━━━━━━━\u001b[0m\u001b[37m\u001b[0m \u001b[1m10s\u001b[0m 177ms/step - loss: 1.9433e-05 - val_loss: 0.0043\n",
            "Epoch 88/100\n",
            "\u001b[1m36/36\u001b[0m \u001b[32m━━━━━━━━━━━━━━━━━━━━\u001b[0m\u001b[37m\u001b[0m \u001b[1m9s\u001b[0m 257ms/step - loss: 1.1154e-05 - val_loss: 0.0048\n",
            "Epoch 89/100\n",
            "\u001b[1m36/36\u001b[0m \u001b[32m━━━━━━━━━━━━━━━━━━━━\u001b[0m\u001b[37m\u001b[0m \u001b[1m7s\u001b[0m 178ms/step - loss: 1.0229e-05 - val_loss: 0.0060\n",
            "Epoch 90/100\n",
            "\u001b[1m36/36\u001b[0m \u001b[32m━━━━━━━━━━━━━━━━━━━━\u001b[0m\u001b[37m\u001b[0m \u001b[1m11s\u001b[0m 187ms/step - loss: 8.7614e-06 - val_loss: 0.0056\n",
            "Epoch 91/100\n",
            "\u001b[1m36/36\u001b[0m \u001b[32m━━━━━━━━━━━━━━━━━━━━\u001b[0m\u001b[37m\u001b[0m \u001b[1m8s\u001b[0m 213ms/step - loss: 9.6558e-06 - val_loss: 0.0025\n",
            "Epoch 92/100\n",
            "\u001b[1m36/36\u001b[0m \u001b[32m━━━━━━━━━━━━━━━━━━━━\u001b[0m\u001b[37m\u001b[0m \u001b[1m9s\u001b[0m 180ms/step - loss: 9.9741e-06 - val_loss: 0.0039\n",
            "Epoch 93/100\n",
            "\u001b[1m36/36\u001b[0m \u001b[32m━━━━━━━━━━━━━━━━━━━━\u001b[0m\u001b[37m\u001b[0m \u001b[1m10s\u001b[0m 177ms/step - loss: 8.4699e-06 - val_loss: 0.0059\n",
            "Epoch 94/100\n",
            "\u001b[1m36/36\u001b[0m \u001b[32m━━━━━━━━━━━━━━━━━━━━\u001b[0m\u001b[37m\u001b[0m \u001b[1m8s\u001b[0m 219ms/step - loss: 9.4249e-06 - val_loss: 0.0041\n",
            "Epoch 95/100\n",
            "\u001b[1m36/36\u001b[0m \u001b[32m━━━━━━━━━━━━━━━━━━━━\u001b[0m\u001b[37m\u001b[0m \u001b[1m9s\u001b[0m 185ms/step - loss: 9.4805e-06 - val_loss: 0.0052\n",
            "Epoch 96/100\n",
            "\u001b[1m36/36\u001b[0m \u001b[32m━━━━━━━━━━━━━━━━━━━━\u001b[0m\u001b[37m\u001b[0m \u001b[1m10s\u001b[0m 177ms/step - loss: 9.4304e-06 - val_loss: 0.0037\n",
            "Epoch 97/100\n",
            "\u001b[1m36/36\u001b[0m \u001b[32m━━━━━━━━━━━━━━━━━━━━\u001b[0m\u001b[37m\u001b[0m \u001b[1m10s\u001b[0m 176ms/step - loss: 8.8973e-06 - val_loss: 0.0035\n",
            "Epoch 98/100\n",
            "\u001b[1m36/36\u001b[0m \u001b[32m━━━━━━━━━━━━━━━━━━━━\u001b[0m\u001b[37m\u001b[0m \u001b[1m11s\u001b[0m 193ms/step - loss: 7.3230e-06 - val_loss: 0.0041\n",
            "Epoch 99/100\n",
            "\u001b[1m36/36\u001b[0m \u001b[32m━━━━━━━━━━━━━━━━━━━━\u001b[0m\u001b[37m\u001b[0m \u001b[1m11s\u001b[0m 225ms/step - loss: 8.2853e-06 - val_loss: 0.0051\n",
            "Epoch 100/100\n",
            "\u001b[1m36/36\u001b[0m \u001b[32m━━━━━━━━━━━━━━━━━━━━\u001b[0m\u001b[37m\u001b[0m \u001b[1m9s\u001b[0m 192ms/step - loss: 8.0691e-06 - val_loss: 0.0046\n"
          ]
        },
        {
          "output_type": "execute_result",
          "data": {
            "text/plain": [
              "<keras.src.callbacks.history.History at 0x7a9057e52b30>"
            ]
          },
          "metadata": {},
          "execution_count": 61
        }
      ]
    },
    {
      "cell_type": "code",
      "source": [
        "x_input = test_data[-n_steps:].reshape(1, n_steps, 1)\n",
        "temp_input = list(x_input.flatten())\n",
        "lst_output = []"
      ],
      "metadata": {
        "id": "cTw0UG1K2whh"
      },
      "execution_count": null,
      "outputs": []
    },
    {
      "cell_type": "code",
      "source": [
        "for i in range(30):\n",
        "    if len(temp_input) > n_steps:\n",
        "        x_input = np.array(temp_input[1:])\n",
        "        x_input = x_input.reshape(1, n_steps, 1)\n",
        "        yhat = model.predict(x_input, verbose=0)\n",
        "        temp_input.extend(yhat[0].tolist())\n",
        "        temp_input = temp_input[1:]\n",
        "        lst_output.extend(yhat.tolist())\n",
        "    else:\n",
        "        x_input = x_input.reshape(1, n_steps, 1)\n",
        "        yhat = model.predict(x_input, verbose=0)\n",
        "        temp_input.extend(yhat[0].tolist())\n",
        "        lst_output.extend(yhat.tolist())"
      ],
      "metadata": {
        "id": "MGo-gd5t2zE-"
      },
      "execution_count": null,
      "outputs": []
    },
    {
      "cell_type": "code",
      "source": [
        "# Convert lst_output to a numpy array and inverse transform to original scale\n",
        "lst_output = np.array(lst_output).reshape(-1, 1)\n",
        "lst_output = scaler.inverse_transform(lst_output)"
      ],
      "metadata": {
        "id": "SSZHmh_o23qz"
      },
      "execution_count": null,
      "outputs": []
    },
    {
      "cell_type": "code",
      "source": [
        "# Prepare data for plotting\n",
        "day_new = np.arange(1, n_steps + 1)\n",
        "day_pred = np.arange(n_steps + 1, n_steps + 31)\n"
      ],
      "metadata": {
        "id": "XWZlvPCx26Q9"
      },
      "execution_count": null,
      "outputs": []
    },
    {
      "cell_type": "code",
      "source": [
        "# Plot historical data, recent data, and forecast\n",
        "plt.figure(figsize=(12, 6))\n",
        "plt.plot(np.arange(len(df_scaled)), scaler.inverse_transform(df_scaled), label='Historical Data')\n",
        "plt.plot(np.arange(len(df_scaled) - n_steps, len(df_scaled)), scaler.inverse_transform(df_scaled[-n_steps:]), label='Recent Data')\n",
        "plt.plot(day_pred, lst_output, label='Forecast')\n",
        "plt.legend()\n",
        "plt.xlabel('Days')\n",
        "plt.ylabel('Stock Price')\n",
        "plt.title('Stock Price Prediction')\n",
        "plt.show()"
      ],
      "metadata": {
        "colab": {
          "base_uri": "https://localhost:8080/",
          "height": 369
        },
        "id": "QOlRpVk929Hf",
        "outputId": "a5f1a91c-45bf-4b77-e06d-dcd6b79b62bb"
      },
      "execution_count": null,
      "outputs": [
        {
          "output_type": "display_data",
          "data": {
            "text/plain": [
              "<Figure size 1200x600 with 1 Axes>"
            ],
            "image/png": "[encoded data removed]"
          },
          "metadata": {}
        }
      ]
    },
    {
      "cell_type": "code",
      "source": [
        "# Evaluate the model\n",
        "train_predict = model.predict(X_train)\n",
        "test_predict = model.predict(X_test)"
      ],
      "metadata": {
        "colab": {
          "base_uri": "https://localhost:8080/"
        },
        "id": "rSgpfY1U2_FJ",
        "outputId": "bf915c62-5cb8-4ace-8da0-7ab7784e9ac6"
      },
      "execution_count": null,
      "outputs": [
        {
          "output_type": "stream",
          "name": "stdout",
          "text": [
            "\u001b[1m72/72\u001b[0m \u001b[32m━━━━━━━━━━━━━━━━━━━━\u001b[0m\u001b[37m\u001b[0m \u001b[1m3s\u001b[0m 38ms/step\n",
            "\u001b[1m37/37\u001b[0m \u001b[32m━━━━━━━━━━━━━━━━━━━━\u001b[0m\u001b[37m\u001b[0m \u001b[1m1s\u001b[0m 36ms/step\n"
          ]
        }
      ]
    },
    {
      "cell_type": "code",
      "source": [
        "# Transform back to original form\n",
        "train_predict = scaler.inverse_transform(train_predict)\n",
        "test_predict = scaler.inverse_transform(test_predict)"
      ],
      "metadata": {
        "id": "HpmNl1Ja3D_J"
      },
      "execution_count": null,
      "outputs": []
    },
    {
      "cell_type": "code",
      "source": [
        "# Calculate RMSE performance metrics\n",
        "train_rmse = math.sqrt(mean_squared_error(y_train, train_predict))\n",
        "test_rmse = math.sqrt(mean_squared_error(y_test, test_predict))\n",
        "print(f'Train RMSE: {train_rmse}')\n",
        "print(f'Test RMSE: {test_rmse}')"
      ],
      "metadata": {
        "colab": {
          "base_uri": "https://localhost:8080/"
        },
        "id": "gsnkEkZB3Gby",
        "outputId": "00a39356-60e4-466b-ac31-03ec6b3ba56b"
      },
      "execution_count": null,
      "outputs": [
        {
          "output_type": "stream",
          "name": "stdout",
          "text": [
            "Train RMSE: 29.135758078864992\n",
            "Test RMSE: 134.65721482347718\n"
          ]
        }
      ]
    },
    {
      "cell_type": "code",
      "source": [
        "print(lst_output)"
      ],
      "metadata": {
        "colab": {
          "base_uri": "https://localhost:8080/"
        },
        "id": "dFhnMapR370f",
        "outputId": "3f5d72d8-30f6-4fa6-85bd-ab537e624231"
      },
      "execution_count": null,
      "outputs": [
        {
          "output_type": "stream",
          "name": "stdout",
          "text": [
            "[[185.66497861]\n",
            " [168.11078847]\n",
            " [138.65801754]\n",
            " [104.69172428]\n",
            " [ 70.51292191]\n",
            " [ 38.93630991]\n",
            " [ 11.87198971]\n",
            " [ -9.65695729]\n",
            " [-25.47760333]\n",
            " [-36.10755297]\n",
            " [-42.48771103]\n",
            " [-45.6949749 ]\n",
            " [-46.73574983]\n",
            " [-46.44517351]\n",
            " [-45.45943491]\n",
            " [-44.224562  ]\n",
            " [-43.02146693]\n",
            " [-41.9977172 ]\n",
            " [-41.20211244]\n",
            " [-40.61775994]\n",
            " [-40.19136937]\n",
            " [-39.8564773 ]\n",
            " [-39.5498507 ]\n",
            " [-39.22139912]\n",
            " [-38.83817616]\n",
            " [-38.38447804]\n",
            " [-37.85893241]\n",
            " [-37.27064632]\n",
            " [-36.63479705]\n",
            " [-35.96907557]]\n"
          ]
        }
      ]
    },
    {
      "cell_type": "code",
      "source": [
        "import numpy as np\n",
        "import pandas as pd\n",
        "import matplotlib.pyplot as plt\n",
        "from sklearn.preprocessing import MinMaxScaler\n",
        "import yfinance as yf\n",
        "\n",
        "# Load historical data\n",
        "df = yf.download('AAPL', start='2000-01-01', end='2024-08-01')  # Specify the date range\n",
        "df.to_csv('AAPL.csv')\n",
        "\n",
        "# Read data from CSV\n",
        "df = pd.read_csv('AAPL.csv')\n",
        "df = df[['Date', 'Close']]  # Keep only the date and close price columns\n",
        "df['Date'] = pd.to_datetime(df['Date'])\n",
        "df.set_index('Date', inplace=True)\n",
        "\n",
        "# Prepare the data\n",
        "df1 = df['Close'].values\n",
        "df1 = df1.reshape(-1, 1)  # Reshape for scaling\n",
        "\n",
        "# Scale data\n",
        "scaler = MinMaxScaler(feature_range=(0, 1))\n",
        "df1 = scaler.fit_transform(df1)\n",
        "\n",
        "# Define your lst_output forecasted data here\n",
        "lst_output = np.array([\n",
        "    [ 2.01851760e+02], [ 1.94875346e+02], [ 1.83065818e+02],\n",
        "    [ 1.69148116e+02], [ 1.54228223e+02], [ 1.38874059e+02],\n",
        "    [ 1.23510262e+02], [ 1.08462803e+02], [ 9.39406927e+01],\n",
        "    [ 8.00488335e+01], [ 6.68397889e+01], [ 5.43862794e+01],\n",
        "    [ 4.28435800e+01], [ 3.24635528e+01], [ 2.35318672e+01],\n",
        "    [ 1.62487390e+01], [ 1.06317064e+01], [ 6.50938080e+00],\n",
        "    [ 3.59547572e+00], [ 1.57782510e+00], [ 1.76661932e-01],\n",
        "    [-8.32032386e-01], [-1.61365048e+00], [-2.28038932e+00],\n",
        "    [-2.89964651e+00], [-3.50352430e+00], [-4.09864663e+00],\n",
        "    [-4.67548692e+00], [-5.21657329e+00], [-5.70301569e+00]\n",
        "])\n",
        "\n",
        "# Extend the forecasted data to the original scale\n",
        "lst_output = scaler.inverse_transform(lst_output)\n",
        "\n",
        "# Combine historical and forecasted data\n",
        "df1_original = scaler.inverse_transform(df1).flatten()\n",
        "df3 = df1_original.tolist()\n",
        "df3.extend(lst_output.flatten())\n",
        "\n",
        "# Define new indices for plotting\n",
        "day_new = np.arange(len(df1_original))\n",
        "day_pred = np.arange(len(df1_original), len(df1_original) + len(lst_output))\n",
        "\n",
        "# Plot the historical and forecasted data\n",
        "plt.figure(figsize=(12, 6))\n",
        "plt.plot(day_new, df1_original, label='Historical Data', color='blue')\n",
        "plt.plot(day_pred, lst_output.flatten(), label='Forecast', color='red')\n",
        "plt.axvline(x=len(df1_original), color='r', linestyle='--', label='Forecast Start')\n",
        "plt.xlabel('Days')\n",
        "plt.ylabel('Stock Price')\n",
        "plt.title('Stock Price with Forecast')\n",
        "plt.legend()\n",
        "plt.show()\n"
      ],
      "metadata": {
        "colab": {
          "base_uri": "https://localhost:8080/",
          "height": 602
        },
        "id": "ur82ni2y4KWC",
        "outputId": "f7c17dc4-4d25-4ee5-acac-9b41c353484c"
      },
      "execution_count": null,
      "outputs": [
        {
          "output_type": "stream",
          "name": "stderr",
          "text": [
            "\r[*********************100%%**********************]  1 of 1 completed\n"
          ]
        },
        {
          "output_type": "display_data",
          "data": {
            "text/plain": [
              "<Figure size 1200x600 with 1 Axes>"
            ],
            "image/png": "[encoded data removed]"
          },
          "metadata": {}
        }
      ]
    }
  ]
}